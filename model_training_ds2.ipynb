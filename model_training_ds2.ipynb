{
 "cells": [
  {
   "cell_type": "markdown",
   "id": "d1a3361b",
   "metadata": {},
   "source": [
    "# AegisLens: Explainable Phishing Detector\n",
    "model_training_dataset2.ipynb - Analysis for Dataset 2\n",
    "---"
   ]
  },
  {
   "cell_type": "markdown",
   "id": "71c4c378",
   "metadata": {},
   "source": [
    "## 1. Project Setup and Library Imports"
   ]
  },
  {
   "cell_type": "code",
   "execution_count": 6,
   "id": "7ab0ab45",
   "metadata": {},
   "outputs": [
    {
     "name": "stdout",
     "output_type": "stream",
     "text": [
      "Libraries imported successfully.\n"
     ]
    }
   ],
   "source": [
    "import pandas as pd\n",
    "import os\n",
    "import kaggle\n",
    "import matplotlib.pyplot as plt\n",
    "import seaborn as sns\n",
    "\n",
    "print(\"Libraries imported successfully.\")"
   ]
  },
  {
   "cell_type": "markdown",
   "id": "e6ad07d0",
   "metadata": {},
   "source": [
    "## 2. Data Acquisition for Dataset #2\n",
    "This notebook focuses on the \"Phishing Domain Detection || CyberSecurity\" dataset from Kaggle.\n",
    "Source: [michellevp/dataset-phishing-domain-detection-cybersecurity](https://www.kaggle.com/datasets/michellevp/dataset-phishing-domain-detection-cybersecurity/data)"
   ]
  },
  {
   "cell_type": "code",
   "execution_count": 7,
   "id": "02270a6b",
   "metadata": {},
   "outputs": [
    {
     "name": "stdout",
     "output_type": "stream",
     "text": [
      "Dataset #2 already exists locally.\n"
     ]
    }
   ],
   "source": [
    "# Define the dataset path and the local directory to store it\n",
    "dataset_path = 'michellevp/dataset-phishing-domain-detection-cybersecurity'\n",
    "data_dir = 'data'\n",
    "# The file inside this dataset is named 'dataset_phishing.csv'\n",
    "file_name_ds2 = 'dataset_cybersecurity_michelle.csv'\n",
    "file_path_ds2 = os.path.join(data_dir, file_name_ds2)\n",
    "\n",
    "# Create the data directory if it doesn't exist\n",
    "if not os.path.exists(data_dir):\n",
    "    os.makedirs(data_dir)\n",
    "    print(f\"Directory '{data_dir}' created.\")\n",
    "\n",
    "# Download the dataset if it doesn't already exist\n",
    "if not os.path.exists(file_path_ds2):\n",
    "    print(\"Dataset #2 not found locally. Downloading from Kaggle...\")\n",
    "    try:\n",
    "        kaggle.api.dataset_download_files(dataset_path, path=data_dir, unzip=True)\n",
    "        print(\"Dataset #2 downloaded and unzipped successfully.\")\n",
    "    except Exception as e:\n",
    "        print(f\"An error occurred during download: {e}\")\n",
    "else:\n",
    "    print(\"Dataset #2 already exists locally.\")"
   ]
  },
  {
   "cell_type": "markdown",
   "id": "935eeb19",
   "metadata": {},
   "source": [
    "## 3. Load Dataset and Initial Exploration\n",
    "Load the data and perform a quick health check."
   ]
  },
  {
   "cell_type": "code",
   "execution_count": 8,
   "id": "3333f091",
   "metadata": {},
   "outputs": [
    {
     "name": "stdout",
     "output_type": "stream",
     "text": [
      "\n",
      "Dataset #2 loaded successfully. Here's a preview:\n"
     ]
    },
    {
     "data": {
      "text/html": [
       "<div>\n",
       "<style scoped>\n",
       "    .dataframe tbody tr th:only-of-type {\n",
       "        vertical-align: middle;\n",
       "    }\n",
       "\n",
       "    .dataframe tbody tr th {\n",
       "        vertical-align: top;\n",
       "    }\n",
       "\n",
       "    .dataframe thead th {\n",
       "        text-align: right;\n",
       "    }\n",
       "</style>\n",
       "<table border=\"1\" class=\"dataframe\">\n",
       "  <thead>\n",
       "    <tr style=\"text-align: right;\">\n",
       "      <th></th>\n",
       "      <th>qty_dot_url</th>\n",
       "      <th>qty_hyphen_url</th>\n",
       "      <th>qty_underline_url</th>\n",
       "      <th>qty_slash_url</th>\n",
       "      <th>qty_questionmark_url</th>\n",
       "      <th>qty_equal_url</th>\n",
       "      <th>qty_at_url</th>\n",
       "      <th>qty_and_url</th>\n",
       "      <th>qty_exclamation_url</th>\n",
       "      <th>qty_space_url</th>\n",
       "      <th>...</th>\n",
       "      <th>qty_ip_resolved</th>\n",
       "      <th>qty_nameservers</th>\n",
       "      <th>qty_mx_servers</th>\n",
       "      <th>ttl_hostname</th>\n",
       "      <th>tls_ssl_certificate</th>\n",
       "      <th>qty_redirects</th>\n",
       "      <th>url_google_index</th>\n",
       "      <th>domain_google_index</th>\n",
       "      <th>url_shortened</th>\n",
       "      <th>phishing</th>\n",
       "    </tr>\n",
       "  </thead>\n",
       "  <tbody>\n",
       "    <tr>\n",
       "      <th>0</th>\n",
       "      <td>1</td>\n",
       "      <td>0</td>\n",
       "      <td>0</td>\n",
       "      <td>1</td>\n",
       "      <td>0</td>\n",
       "      <td>0</td>\n",
       "      <td>0</td>\n",
       "      <td>0</td>\n",
       "      <td>0</td>\n",
       "      <td>0</td>\n",
       "      <td>...</td>\n",
       "      <td>2</td>\n",
       "      <td>2</td>\n",
       "      <td>5</td>\n",
       "      <td>292</td>\n",
       "      <td>0</td>\n",
       "      <td>-1</td>\n",
       "      <td>0</td>\n",
       "      <td>0</td>\n",
       "      <td>0</td>\n",
       "      <td>1</td>\n",
       "    </tr>\n",
       "    <tr>\n",
       "      <th>1</th>\n",
       "      <td>2</td>\n",
       "      <td>5</td>\n",
       "      <td>4</td>\n",
       "      <td>2</td>\n",
       "      <td>0</td>\n",
       "      <td>0</td>\n",
       "      <td>0</td>\n",
       "      <td>0</td>\n",
       "      <td>0</td>\n",
       "      <td>0</td>\n",
       "      <td>...</td>\n",
       "      <td>2</td>\n",
       "      <td>4</td>\n",
       "      <td>2</td>\n",
       "      <td>52</td>\n",
       "      <td>0</td>\n",
       "      <td>1</td>\n",
       "      <td>0</td>\n",
       "      <td>0</td>\n",
       "      <td>0</td>\n",
       "      <td>1</td>\n",
       "    </tr>\n",
       "    <tr>\n",
       "      <th>2</th>\n",
       "      <td>2</td>\n",
       "      <td>0</td>\n",
       "      <td>0</td>\n",
       "      <td>0</td>\n",
       "      <td>0</td>\n",
       "      <td>0</td>\n",
       "      <td>0</td>\n",
       "      <td>0</td>\n",
       "      <td>0</td>\n",
       "      <td>0</td>\n",
       "      <td>...</td>\n",
       "      <td>2</td>\n",
       "      <td>2</td>\n",
       "      <td>0</td>\n",
       "      <td>298</td>\n",
       "      <td>1</td>\n",
       "      <td>1</td>\n",
       "      <td>0</td>\n",
       "      <td>0</td>\n",
       "      <td>0</td>\n",
       "      <td>0</td>\n",
       "    </tr>\n",
       "    <tr>\n",
       "      <th>3</th>\n",
       "      <td>1</td>\n",
       "      <td>1</td>\n",
       "      <td>0</td>\n",
       "      <td>2</td>\n",
       "      <td>0</td>\n",
       "      <td>0</td>\n",
       "      <td>0</td>\n",
       "      <td>0</td>\n",
       "      <td>0</td>\n",
       "      <td>0</td>\n",
       "      <td>...</td>\n",
       "      <td>1</td>\n",
       "      <td>2</td>\n",
       "      <td>5</td>\n",
       "      <td>1792</td>\n",
       "      <td>0</td>\n",
       "      <td>0</td>\n",
       "      <td>0</td>\n",
       "      <td>0</td>\n",
       "      <td>0</td>\n",
       "      <td>1</td>\n",
       "    </tr>\n",
       "    <tr>\n",
       "      <th>4</th>\n",
       "      <td>2</td>\n",
       "      <td>1</td>\n",
       "      <td>0</td>\n",
       "      <td>0</td>\n",
       "      <td>0</td>\n",
       "      <td>0</td>\n",
       "      <td>0</td>\n",
       "      <td>0</td>\n",
       "      <td>0</td>\n",
       "      <td>0</td>\n",
       "      <td>...</td>\n",
       "      <td>1</td>\n",
       "      <td>2</td>\n",
       "      <td>1</td>\n",
       "      <td>299</td>\n",
       "      <td>1</td>\n",
       "      <td>1</td>\n",
       "      <td>0</td>\n",
       "      <td>0</td>\n",
       "      <td>0</td>\n",
       "      <td>0</td>\n",
       "    </tr>\n",
       "  </tbody>\n",
       "</table>\n",
       "<p>5 rows × 112 columns</p>\n",
       "</div>"
      ],
      "text/plain": [
       "   qty_dot_url  qty_hyphen_url  qty_underline_url  qty_slash_url  \\\n",
       "0            1               0                  0              1   \n",
       "1            2               5                  4              2   \n",
       "2            2               0                  0              0   \n",
       "3            1               1                  0              2   \n",
       "4            2               1                  0              0   \n",
       "\n",
       "   qty_questionmark_url  qty_equal_url  qty_at_url  qty_and_url  \\\n",
       "0                     0              0           0            0   \n",
       "1                     0              0           0            0   \n",
       "2                     0              0           0            0   \n",
       "3                     0              0           0            0   \n",
       "4                     0              0           0            0   \n",
       "\n",
       "   qty_exclamation_url  qty_space_url  ...  qty_ip_resolved  qty_nameservers  \\\n",
       "0                    0              0  ...                2                2   \n",
       "1                    0              0  ...                2                4   \n",
       "2                    0              0  ...                2                2   \n",
       "3                    0              0  ...                1                2   \n",
       "4                    0              0  ...                1                2   \n",
       "\n",
       "   qty_mx_servers  ttl_hostname  tls_ssl_certificate  qty_redirects  \\\n",
       "0               5           292                    0             -1   \n",
       "1               2            52                    0              1   \n",
       "2               0           298                    1              1   \n",
       "3               5          1792                    0              0   \n",
       "4               1           299                    1              1   \n",
       "\n",
       "   url_google_index  domain_google_index  url_shortened  phishing  \n",
       "0                 0                    0              0         1  \n",
       "1                 0                    0              0         1  \n",
       "2                 0                    0              0         0  \n",
       "3                 0                    0              0         1  \n",
       "4                 0                    0              0         0  \n",
       "\n",
       "[5 rows x 112 columns]"
      ]
     },
     "metadata": {},
     "output_type": "display_data"
    }
   ],
   "source": [
    "try:\n",
    "    df2 = pd.read_csv(file_path_ds2)\n",
    "    print(\"\\nDataset #2 loaded successfully. Here's a preview:\")\n",
    "    display(df2.head())\n",
    "except FileNotFoundError:\n",
    "    print(f\"Error: The file {file_path_ds2} was not found. Please check the download step.\")"
   ]
  },
  {
   "cell_type": "markdown",
   "id": "e1421893",
   "metadata": {},
   "source": [
    "## 4. Initial Exploratory Data Analysis (EDA)"
   ]
  },
  {
   "cell_type": "code",
   "execution_count": 10,
   "id": "1ac6aecd",
   "metadata": {},
   "outputs": [
    {
     "name": "stdout",
     "output_type": "stream",
     "text": [
      "\n",
      "--- DataFrame Info ---\n",
      "<class 'pandas.core.frame.DataFrame'>\n",
      "RangeIndex: 129698 entries, 0 to 129697\n",
      "Columns: 112 entries, qty_dot_url to phishing\n",
      "dtypes: float64(1), int64(111)\n",
      "memory usage: 110.8 MB\n",
      "\n",
      "Total number of missing values in the dataset: 0\n",
      "Dataset #2 is clean with no missing values.\n",
      "\n",
      "--- Target Variable Distribution ---\n",
      "phishing\n",
      "0    77546\n",
      "1    52152\n",
      "Name: count, dtype: int64\n"
     ]
    },
    {
     "data": {
      "image/png": "[encoded data removed]",
      "text/plain": [
       "<Figure size 640x480 with 1 Axes>"
      ]
     },
     "metadata": {},
     "output_type": "display_data"
    }
   ],
   "source": [
    "# Get a concise summary of the DataFrame.\n",
    "# With 114 features, this will be a long list.\n",
    "print(\"\\n--- DataFrame Info ---\")\n",
    "df2.info()\n",
    "\n",
    "# Check for any missing values.\n",
    "missing_values_ds2 = df2.isnull().sum().sum()\n",
    "print(f\"\\nTotal number of missing values in the dataset: {missing_values_ds2}\")\n",
    "if missing_values_ds2 == 0:\n",
    "    print(\"Dataset #2 is clean with no missing values.\")\n",
    "else:\n",
    "    print(\"Warning: Dataset contains missing values that need to be handled.\")\n",
    "\n",
    "# Check the balance of our target variable ('phishing').\n",
    "# 1 indicates a phishing URL, 0 indicates a legitimate URL.\n",
    "print(\"\\n--- Target Variable Distribution ---\")\n",
    "if 'phishing' in df2.columns:\n",
    "    print(df2['phishing'].value_counts())\n",
    "    # Visualize the distribution\n",
    "    df2['phishing'].value_counts().plot(kind='bar', color=['skyblue', 'salmon'], rot=0)\n",
    "    plt.title('Target Variable Distribution (Dataset #2)')\n",
    "    plt.xlabel('Class (0: Legitimate, 1: Phishing)')\n",
    "    plt.ylabel('Count')\n",
    "    plt.show()\n",
    "else:\n",
    "    print(\"Warning: Target column 'phishing' not found.\")"
   ]
  },
  {
   "cell_type": "markdown",
   "id": "c130cb0b",
   "metadata": {},
   "source": [
    "# Part 2: Model Benchmarking\n",
    "---\n",
    "\n",
    "## 5. Data Preparation and Model Training Setup\n",
    "We'll now prepare the data and train our suite of models."
   ]
  },
  {
   "cell_type": "code",
   "execution_count": 11,
   "id": "aa9407ad",
   "metadata": {},
   "outputs": [
    {
     "name": "stdout",
     "output_type": "stream",
     "text": [
      "Shape of features (X_ds2): (129698, 111)\n",
      "Shape of target (y_ds2): (129698,)\n"
     ]
    }
   ],
   "source": [
    "# Import necessary libraries\n",
    "from sklearn.model_selection import train_test_split\n",
    "from sklearn.linear_model import LogisticRegression\n",
    "from sklearn.tree import DecisionTreeClassifier\n",
    "from sklearn.ensemble import RandomForestClassifier, GradientBoostingClassifier\n",
    "from sklearn.metrics import accuracy_score, precision_score, recall_score, f1_score\n",
    "import time\n",
    "\n",
    "# Define features (X) and target (y) for Dataset #2\n",
    "# X will contain all columns except the target, 'phishing'.\n",
    "X_ds2 = df2.drop('phishing', axis=1)\n",
    "\n",
    "# y is our target variable.\n",
    "y_ds2 = df2['phishing']\n",
    "\n",
    "print(f\"Shape of features (X_ds2): {X_ds2.shape}\")\n",
    "print(f\"Shape of target (y_ds2): {y_ds2.shape}\")"
   ]
  },
  {
   "cell_type": "markdown",
   "id": "bf97b6bc",
   "metadata": {},
   "source": [
    "## 6. Splitting the Data\n",
    "We use stratify=y_ds2 to ensure the 60/40 class imbalance is preserved in both our training and testing sets."
   ]
  },
  {
   "cell_type": "code",
   "execution_count": 12,
   "id": "32cff736",
   "metadata": {},
   "outputs": [
    {
     "name": "stdout",
     "output_type": "stream",
     "text": [
      "\n",
      "Dataset #2 split into training and testing sets.\n"
     ]
    }
   ],
   "source": [
    "X_train_ds2, X_test_ds2, y_train_ds2, y_test_ds2 = train_test_split(\n",
    "    X_ds2, y_ds2,\n",
    "    test_size=0.2,\n",
    "    stratify=y_ds2,\n",
    "    random_state=42\n",
    ")\n",
    "\n",
    "print(\"\\nDataset #2 split into training and testing sets.\")"
   ]
  },
  {
   "cell_type": "markdown",
   "id": "fa266294",
   "metadata": {},
   "source": [
    "## 7. Model Training and Evaluation\n",
    "Train and evaluate all four models on this dataset."
   ]
  },
  {
   "cell_type": "markdown",
   "id": "8f2ebf57",
   "metadata": {},
   "source": [
    "### Logistic Regression"
   ]
  },
  {
   "cell_type": "code",
   "execution_count": 13,
   "id": "b896ec01",
   "metadata": {},
   "outputs": [
    {
     "name": "stdout",
     "output_type": "stream",
     "text": [
      "\n",
      "--- Training Logistic Regression on Dataset #2 ---\n",
      "Logistic Regression training complete in 47.52s\n"
     ]
    },
    {
     "name": "stderr",
     "output_type": "stream",
     "text": [
      "/home/ddf/Documents/projects/aegis_lens/.venv/lib/python3.12/site-packages/sklearn/linear_model/_logistic.py:470: ConvergenceWarning: lbfgs failed to converge after 1000 iteration(s) (status=1):\n",
      "STOP: TOTAL NO. OF ITERATIONS REACHED LIMIT\n",
      "\n",
      "Increase the number of iterations to improve the convergence (max_iter=1000).\n",
      "You might also want to scale the data as shown in:\n",
      "    https://scikit-learn.org/stable/modules/preprocessing.html\n",
      "Please also refer to the documentation for alternative solver options:\n",
      "    https://scikit-learn.org/stable/modules/linear_model.html#logistic-regression\n",
      "  n_iter_i = _check_optimize_result(\n"
     ]
    }
   ],
   "source": [
    "# Dictionary to store the performance of models on this dataset\n",
    "model_performance_ds2 = {}\n",
    "\n",
    "# --- Model 1: Logistic Regression ---\n",
    "print(\"\\n--- Training Logistic Regression on Dataset #2 ---\")\n",
    "start_time = time.time()\n",
    "log_reg_ds2 = LogisticRegression(max_iter=1000, random_state=42).fit(X_train_ds2, y_train_ds2)\n",
    "y_pred_lr_ds2 = log_reg_ds2.predict(X_test_ds2)\n",
    "lr_time_ds2 = time.time() - start_time\n",
    "model_performance_ds2['Logistic Regression'] = [\n",
    "    accuracy_score(y_test_ds2, y_pred_lr_ds2),\n",
    "    precision_score(y_test_ds2, y_pred_lr_ds2),\n",
    "    recall_score(y_test_ds2, y_pred_lr_ds2),\n",
    "    f1_score(y_test_ds2, y_pred_lr_ds2),\n",
    "    lr_time_ds2\n",
    "]\n",
    "print(f\"Logistic Regression training complete in {lr_time_ds2:.2f}s\")"
   ]
  },
  {
   "cell_type": "markdown",
   "id": "29e3e561",
   "metadata": {},
   "source": [
    "### Decision Tree Classifier"
   ]
  },
  {
   "cell_type": "code",
   "execution_count": 14,
   "id": "b2afbd6d",
   "metadata": {},
   "outputs": [
    {
     "name": "stdout",
     "output_type": "stream",
     "text": [
      "\n",
      "--- Training Decision Tree on Dataset #2 ---\n",
      "Decision Tree training complete in 1.62s\n"
     ]
    }
   ],
   "source": [
    "# --- Model 2: Decision Tree ---\n",
    "print(\"\\n--- Training Decision Tree on Dataset #2 ---\")\n",
    "start_time = time.time()\n",
    "dec_tree_ds2 = DecisionTreeClassifier(random_state=42).fit(X_train_ds2, y_train_ds2)\n",
    "y_pred_dt_ds2 = dec_tree_ds2.predict(X_test_ds2)\n",
    "dt_time_ds2 = time.time() - start_time\n",
    "model_performance_ds2['Decision Tree'] = [\n",
    "    accuracy_score(y_test_ds2, y_pred_dt_ds2),\n",
    "    precision_score(y_test_ds2, y_pred_dt_ds2),\n",
    "    recall_score(y_test_ds2, y_pred_dt_ds2),\n",
    "    f1_score(y_test_ds2, y_pred_dt_ds2),\n",
    "    dt_time_ds2\n",
    "]\n",
    "print(f\"Decision Tree training complete in {dt_time_ds2:.2f}s\")"
   ]
  },
  {
   "cell_type": "markdown",
   "id": "4178fb9d",
   "metadata": {},
   "source": [
    "### Random Forest"
   ]
  },
  {
   "cell_type": "code",
   "execution_count": 15,
   "id": "d1532f6d",
   "metadata": {},
   "outputs": [
    {
     "name": "stdout",
     "output_type": "stream",
     "text": [
      "\n",
      "--- Training Random Forest on Dataset #2 ---\n",
      "Random Forest training complete in 3.21s\n"
     ]
    }
   ],
   "source": [
    "# --- Model 3: Random Forest ---\n",
    "print(\"\\n--- Training Random Forest on Dataset #2 ---\")\n",
    "start_time = time.time()\n",
    "rf_clf_ds2 = RandomForestClassifier(n_estimators=100, random_state=42, n_jobs=-1).fit(X_train_ds2, y_train_ds2)\n",
    "y_pred_rf_ds2 = rf_clf_ds2.predict(X_test_ds2)\n",
    "rf_time_ds2 = time.time() - start_time\n",
    "model_performance_ds2['Random Forest'] = [\n",
    "    accuracy_score(y_test_ds2, y_pred_rf_ds2),\n",
    "    precision_score(y_test_ds2, y_pred_rf_ds2),\n",
    "    recall_score(y_test_ds2, y_pred_rf_ds2),\n",
    "    f1_score(y_test_ds2, y_pred_rf_ds2),\n",
    "    rf_time_ds2\n",
    "]\n",
    "print(f\"Random Forest training complete in {rf_time_ds2:.2f}s\")"
   ]
  },
  {
   "cell_type": "markdown",
   "id": "d6f9dfcd",
   "metadata": {},
   "source": [
    "### Gradient Boosting Classifier"
   ]
  },
  {
   "cell_type": "code",
   "execution_count": 16,
   "id": "6383d70c",
   "metadata": {},
   "outputs": [
    {
     "name": "stdout",
     "output_type": "stream",
     "text": [
      "\n",
      "--- Training Gradient Boosting on Dataset #2 ---\n",
      "Gradient Boosting training complete in 31.83s\n"
     ]
    }
   ],
   "source": [
    "# --- Model 4: Gradient Boosting ---\n",
    "print(\"\\n--- Training Gradient Boosting on Dataset #2 ---\")\n",
    "start_time = time.time()\n",
    "gb_clf_ds2 = GradientBoostingClassifier(n_estimators=100, random_state=42).fit(X_train_ds2, y_train_ds2)\n",
    "y_pred_gb_ds2 = gb_clf_ds2.predict(X_test_ds2)\n",
    "gb_time_ds2 = time.time() - start_time\n",
    "model_performance_ds2['Gradient Boosting'] = [\n",
    "    accuracy_score(y_test_ds2, y_pred_gb_ds2),\n",
    "    precision_score(y_test_ds2, y_pred_gb_ds2),\n",
    "    recall_score(y_test_ds2, y_pred_gb_ds2),\n",
    "    f1_score(y_test_ds2, y_pred_gb_ds2),\n",
    "    gb_time_ds2\n",
    "]\n",
    "print(f\"Gradient Boosting training complete in {gb_time_ds2:.2f}s\")"
   ]
  },
  {
   "cell_type": "markdown",
   "id": "311edcba",
   "metadata": {},
   "source": [
    "## 8. Final Model Comparison for Dataset #2"
   ]
  },
  {
   "cell_type": "code",
   "execution_count": 17,
   "id": "9850e611",
   "metadata": {},
   "outputs": [
    {
     "name": "stdout",
     "output_type": "stream",
     "text": [
      "\n",
      "--- Final Model Performance Comparison (Dataset #2) ---\n"
     ]
    },
    {
     "data": {
      "text/html": [
       "<div>\n",
       "<style scoped>\n",
       "    .dataframe tbody tr th:only-of-type {\n",
       "        vertical-align: middle;\n",
       "    }\n",
       "\n",
       "    .dataframe tbody tr th {\n",
       "        vertical-align: top;\n",
       "    }\n",
       "\n",
       "    .dataframe thead th {\n",
       "        text-align: right;\n",
       "    }\n",
       "</style>\n",
       "<table border=\"1\" class=\"dataframe\">\n",
       "  <thead>\n",
       "    <tr style=\"text-align: right;\">\n",
       "      <th></th>\n",
       "      <th>Accuracy</th>\n",
       "      <th>Precision</th>\n",
       "      <th>Recall</th>\n",
       "      <th>F1-Score</th>\n",
       "      <th>Training Time (s)</th>\n",
       "    </tr>\n",
       "  </thead>\n",
       "  <tbody>\n",
       "    <tr>\n",
       "      <th>Logistic Regression</th>\n",
       "      <td>0.903123</td>\n",
       "      <td>0.857440</td>\n",
       "      <td>0.910459</td>\n",
       "      <td>0.883154</td>\n",
       "      <td>47.521089</td>\n",
       "    </tr>\n",
       "    <tr>\n",
       "      <th>Decision Tree</th>\n",
       "      <td>0.981766</td>\n",
       "      <td>0.975368</td>\n",
       "      <td>0.979388</td>\n",
       "      <td>0.977374</td>\n",
       "      <td>1.616760</td>\n",
       "    </tr>\n",
       "    <tr>\n",
       "      <th>Random Forest</th>\n",
       "      <td>0.989167</td>\n",
       "      <td>0.986111</td>\n",
       "      <td>0.986962</td>\n",
       "      <td>0.986536</td>\n",
       "      <td>3.205765</td>\n",
       "    </tr>\n",
       "    <tr>\n",
       "      <th>Gradient Boosting</th>\n",
       "      <td>0.946029</td>\n",
       "      <td>0.930089</td>\n",
       "      <td>0.936152</td>\n",
       "      <td>0.933110</td>\n",
       "      <td>31.832130</td>\n",
       "    </tr>\n",
       "  </tbody>\n",
       "</table>\n",
       "</div>"
      ],
      "text/plain": [
       "                     Accuracy  Precision    Recall  F1-Score  \\\n",
       "Logistic Regression  0.903123   0.857440  0.910459  0.883154   \n",
       "Decision Tree        0.981766   0.975368  0.979388  0.977374   \n",
       "Random Forest        0.989167   0.986111  0.986962  0.986536   \n",
       "Gradient Boosting    0.946029   0.930089  0.936152  0.933110   \n",
       "\n",
       "                     Training Time (s)  \n",
       "Logistic Regression          47.521089  \n",
       "Decision Tree                 1.616760  \n",
       "Random Forest                 3.205765  \n",
       "Gradient Boosting            31.832130  "
      ]
     },
     "metadata": {},
     "output_type": "display_data"
    },
    {
     "data": {
      "image/png": "[encoded data removed]",
      "text/plain": [
       "<Figure size 1200x700 with 1 Axes>"
      ]
     },
     "metadata": {},
     "output_type": "display_data"
    }
   ],
   "source": [
    "print(\"\\n--- Final Model Performance Comparison (Dataset #2) ---\")\n",
    "performance_df_ds2 = pd.DataFrame.from_dict(\n",
    "    model_performance_ds2,\n",
    "    orient='index',\n",
    "    columns=['Accuracy', 'Precision', 'Recall', 'F1-Score', 'Training Time (s)']\n",
    ")\n",
    "display(performance_df_ds2)\n",
    "\n",
    "# --- Visualize Model Performance ---\n",
    "metrics_to_plot_ds2 = ['Accuracy', 'Precision', 'Recall', 'F1-Score']\n",
    "performance_to_plot_ds2 = performance_df_ds2[metrics_to_plot_ds2]\n",
    "\n",
    "plt.style.use('seaborn-v0_8-darkgrid')\n",
    "ax = performance_to_plot_ds2.plot(kind='bar', figsize=(12, 7), rot=0, width=0.8)\n",
    "plt.title('Model Performance Comparison (Dataset #2)', fontsize=16)\n",
    "plt.ylabel('Score', fontsize=12)\n",
    "plt.xlabel('Model', fontsize=12)\n",
    "plt.ylim(0.9, 1.0)\n",
    "plt.legend(title='Metric', bbox_to_anchor=(1.05, 1), loc='upper left')\n",
    "\n",
    "for p in ax.patches:\n",
    "    ax.annotate(f'{p.get_height():.4f}', (p.get_x() + p.get_width() / 2., p.get_height()),\n",
    "                ha='center', va='center', xytext=(0, 10), textcoords='offset points')\n",
    "\n",
    "plt.tight_layout()\n",
    "plt.show()"
   ]
  },
  {
   "cell_type": "markdown",
   "id": "59ea6630",
   "metadata": {},
   "source": [
    "# Final Selection\n",
    "---\n",
    "\n",
    "## 9. Select and Serialize the Champion Model for Dataset #2\n",
    "Based on the empirical evidence from our benchmark table and visualization, the Random Forest classifier is the clear winner for this dataset. It provided the highest performance across all key metrics."
   ]
  },
  {
   "cell_type": "code",
   "execution_count": 18,
   "id": "848aa670",
   "metadata": {},
   "outputs": [
    {
     "name": "stdout",
     "output_type": "stream",
     "text": [
      "\n",
      "Champion model for Dataset #2 selected: RandomForestClassifier\n",
      "\n",
      "Champion model for Dataset #2 has been serialized to 'models/url_model_ds2.joblib'\n"
     ]
    }
   ],
   "source": [
    "import joblib\n",
    "\n",
    "# Select the champion model from this run\n",
    "champion_model_ds2 = rf_clf_ds2\n",
    "print(f\"\\nChampion model for Dataset #2 selected: {type(champion_model_ds2).__name__}\")\n",
    "\n",
    "# Create the models directory if it doesn't already exist\n",
    "if not os.path.exists('models'):\n",
    "    os.makedirs('models')\n",
    "    print(\"Created 'models' directory.\")\n",
    "\n",
    "# Save the serialized model with a distinct name\n",
    "model_filename_ds2 = 'models/url_model_ds2.joblib'\n",
    "joblib.dump(champion_model_ds2, model_filename_ds2)\n",
    "\n",
    "print(f\"\\nChampion model for Dataset #2 has been serialized to '{model_filename_ds2}'\")"
   ]
  }
 ],
 "metadata": {
  "kernelspec": {
   "display_name": ".venv",
   "language": "python",
   "name": "python3"
  },
  "language_info": {
   "codemirror_mode": {
    "name": "ipython",
    "version": 3
   },
   "file_extension": ".py",
   "mimetype": "text/x-python",
   "name": "python",
   "nbconvert_exporter": "python",
   "pygments_lexer": "ipython3",
   "version": "3.12.3"
  }
 },
 "nbformat": 4,
 "nbformat_minor": 5
}
