{
 "cells": [
  {
   "cell_type": "markdown",
   "id": "1d4e3ce4",
   "metadata": {},
   "source": [
    "# AegisLens: Explainable Phishing Detector\n",
    "model_training_dataset3.ipynb - Analysis for Dataset 3\n",
    "\n",
    "---\n",
    "\n",
    "## 1. Project Setup"
   ]
  },
  {
   "cell_type": "code",
   "execution_count": 1,
   "id": "b628b5df",
   "metadata": {},
   "outputs": [
    {
     "name": "stdout",
     "output_type": "stream",
     "text": [
      "Libraries imported successfully.\n"
     ]
    }
   ],
   "source": [
    "import pandas as pd\n",
    "import os\n",
    "import kaggle\n",
    "import matplotlib.pyplot as plt\n",
    "import seaborn as sns\n",
    "\n",
    "print(\"Libraries imported successfully.\")"
   ]
  },
  {
   "cell_type": "markdown",
   "id": "66f9c161",
   "metadata": {},
   "source": [
    "## 2. Data Acquisition for Dataset #3\n",
    "This notebook focuses on the \"Web Page Phishing Dataset\" from Kaggle.\n",
    "Source: [danielfernandon/web-page-phishing-dataset](https://www.kaggle.com/datasets/danielfernandon/web-page-phishing-dataset)"
   ]
  },
  {
   "cell_type": "code",
   "execution_count": 2,
   "id": "115a7cc3",
   "metadata": {},
   "outputs": [
    {
     "name": "stdout",
     "output_type": "stream",
     "text": [
      "Dataset #3 not found locally. Downloading from Kaggle...\n",
      "Dataset URL: https://www.kaggle.com/datasets/danielfernandon/web-page-phishing-dataset\n",
      "Dataset #3 downloaded and unzipped successfully.\n"
     ]
    }
   ],
   "source": [
    "# Define the dataset path and the local directory to store it\n",
    "dataset_path = 'danielfernandon/web-page-phishing-dataset'\n",
    "data_dir = 'data'\n",
    "# The file inside this dataset is named 'phishing_data.csv'\n",
    "file_name_ds3 = 'web-page-phishing.csv'\n",
    "file_path_ds3 = os.path.join(data_dir, file_name_ds3)\n",
    "\n",
    "# Create the data directory if it doesn't exist\n",
    "if not os.path.exists(data_dir):\n",
    "    os.makedirs(data_dir)\n",
    "    print(f\"Directory '{data_dir}' created.\")\n",
    "\n",
    "# Download the dataset if it doesn't already exist\n",
    "if not os.path.exists(file_path_ds3):\n",
    "    print(\"Dataset #3 not found locally. Downloading from Kaggle...\")\n",
    "    try:\n",
    "        kaggle.api.dataset_download_files(dataset_path, path=data_dir, unzip=True)\n",
    "        print(\"Dataset #3 downloaded and unzipped successfully.\")\n",
    "    except Exception as e:\n",
    "        print(f\"An error occurred during download: {e}\")\n",
    "else:\n",
    "    print(\"Dataset #3 already exists locally.\")"
   ]
  },
  {
   "cell_type": "markdown",
   "id": "e5693d92",
   "metadata": {},
   "source": [
    "## 3. Load Dataset and Initial Exploration\n",
    "Load the data and perform a quick health check."
   ]
  },
  {
   "cell_type": "code",
   "execution_count": 3,
   "id": "cfb43592",
   "metadata": {},
   "outputs": [
    {
     "name": "stdout",
     "output_type": "stream",
     "text": [
      "\n",
      "Dataset #3 loaded successfully. Here's a preview:\n"
     ]
    },
    {
     "data": {
      "text/html": [
       "<div>\n",
       "<style scoped>\n",
       "    .dataframe tbody tr th:only-of-type {\n",
       "        vertical-align: middle;\n",
       "    }\n",
       "\n",
       "    .dataframe tbody tr th {\n",
       "        vertical-align: top;\n",
       "    }\n",
       "\n",
       "    .dataframe thead th {\n",
       "        text-align: right;\n",
       "    }\n",
       "</style>\n",
       "<table border=\"1\" class=\"dataframe\">\n",
       "  <thead>\n",
       "    <tr style=\"text-align: right;\">\n",
       "      <th></th>\n",
       "      <th>url_length</th>\n",
       "      <th>n_dots</th>\n",
       "      <th>n_hypens</th>\n",
       "      <th>n_underline</th>\n",
       "      <th>n_slash</th>\n",
       "      <th>n_questionmark</th>\n",
       "      <th>n_equal</th>\n",
       "      <th>n_at</th>\n",
       "      <th>n_and</th>\n",
       "      <th>n_exclamation</th>\n",
       "      <th>n_space</th>\n",
       "      <th>n_tilde</th>\n",
       "      <th>n_comma</th>\n",
       "      <th>n_plus</th>\n",
       "      <th>n_asterisk</th>\n",
       "      <th>n_hastag</th>\n",
       "      <th>n_dollar</th>\n",
       "      <th>n_percent</th>\n",
       "      <th>n_redirection</th>\n",
       "      <th>phishing</th>\n",
       "    </tr>\n",
       "  </thead>\n",
       "  <tbody>\n",
       "    <tr>\n",
       "      <th>0</th>\n",
       "      <td>37</td>\n",
       "      <td>3</td>\n",
       "      <td>0</td>\n",
       "      <td>0</td>\n",
       "      <td>0</td>\n",
       "      <td>0</td>\n",
       "      <td>0</td>\n",
       "      <td>0</td>\n",
       "      <td>0</td>\n",
       "      <td>0</td>\n",
       "      <td>0</td>\n",
       "      <td>0</td>\n",
       "      <td>0</td>\n",
       "      <td>0</td>\n",
       "      <td>0</td>\n",
       "      <td>0</td>\n",
       "      <td>0</td>\n",
       "      <td>0</td>\n",
       "      <td>0</td>\n",
       "      <td>0</td>\n",
       "    </tr>\n",
       "    <tr>\n",
       "      <th>1</th>\n",
       "      <td>77</td>\n",
       "      <td>1</td>\n",
       "      <td>0</td>\n",
       "      <td>0</td>\n",
       "      <td>0</td>\n",
       "      <td>0</td>\n",
       "      <td>0</td>\n",
       "      <td>0</td>\n",
       "      <td>0</td>\n",
       "      <td>0</td>\n",
       "      <td>0</td>\n",
       "      <td>0</td>\n",
       "      <td>0</td>\n",
       "      <td>0</td>\n",
       "      <td>0</td>\n",
       "      <td>0</td>\n",
       "      <td>0</td>\n",
       "      <td>0</td>\n",
       "      <td>1</td>\n",
       "      <td>1</td>\n",
       "    </tr>\n",
       "    <tr>\n",
       "      <th>2</th>\n",
       "      <td>126</td>\n",
       "      <td>4</td>\n",
       "      <td>1</td>\n",
       "      <td>2</td>\n",
       "      <td>0</td>\n",
       "      <td>1</td>\n",
       "      <td>3</td>\n",
       "      <td>0</td>\n",
       "      <td>2</td>\n",
       "      <td>0</td>\n",
       "      <td>0</td>\n",
       "      <td>0</td>\n",
       "      <td>0</td>\n",
       "      <td>0</td>\n",
       "      <td>0</td>\n",
       "      <td>0</td>\n",
       "      <td>0</td>\n",
       "      <td>0</td>\n",
       "      <td>1</td>\n",
       "      <td>1</td>\n",
       "    </tr>\n",
       "    <tr>\n",
       "      <th>3</th>\n",
       "      <td>18</td>\n",
       "      <td>2</td>\n",
       "      <td>0</td>\n",
       "      <td>0</td>\n",
       "      <td>0</td>\n",
       "      <td>0</td>\n",
       "      <td>0</td>\n",
       "      <td>0</td>\n",
       "      <td>0</td>\n",
       "      <td>0</td>\n",
       "      <td>0</td>\n",
       "      <td>0</td>\n",
       "      <td>0</td>\n",
       "      <td>0</td>\n",
       "      <td>0</td>\n",
       "      <td>0</td>\n",
       "      <td>0</td>\n",
       "      <td>0</td>\n",
       "      <td>1</td>\n",
       "      <td>0</td>\n",
       "    </tr>\n",
       "    <tr>\n",
       "      <th>4</th>\n",
       "      <td>55</td>\n",
       "      <td>2</td>\n",
       "      <td>2</td>\n",
       "      <td>0</td>\n",
       "      <td>0</td>\n",
       "      <td>0</td>\n",
       "      <td>0</td>\n",
       "      <td>0</td>\n",
       "      <td>0</td>\n",
       "      <td>0</td>\n",
       "      <td>0</td>\n",
       "      <td>0</td>\n",
       "      <td>0</td>\n",
       "      <td>0</td>\n",
       "      <td>0</td>\n",
       "      <td>0</td>\n",
       "      <td>0</td>\n",
       "      <td>0</td>\n",
       "      <td>1</td>\n",
       "      <td>0</td>\n",
       "    </tr>\n",
       "  </tbody>\n",
       "</table>\n",
       "</div>"
      ],
      "text/plain": [
       "   url_length  n_dots  n_hypens  n_underline  n_slash  n_questionmark  \\\n",
       "0          37       3         0            0        0               0   \n",
       "1          77       1         0            0        0               0   \n",
       "2         126       4         1            2        0               1   \n",
       "3          18       2         0            0        0               0   \n",
       "4          55       2         2            0        0               0   \n",
       "\n",
       "   n_equal  n_at  n_and  n_exclamation  n_space  n_tilde  n_comma  n_plus  \\\n",
       "0        0     0      0              0        0        0        0       0   \n",
       "1        0     0      0              0        0        0        0       0   \n",
       "2        3     0      2              0        0        0        0       0   \n",
       "3        0     0      0              0        0        0        0       0   \n",
       "4        0     0      0              0        0        0        0       0   \n",
       "\n",
       "   n_asterisk  n_hastag  n_dollar  n_percent  n_redirection  phishing  \n",
       "0           0         0         0          0              0         0  \n",
       "1           0         0         0          0              1         1  \n",
       "2           0         0         0          0              1         1  \n",
       "3           0         0         0          0              1         0  \n",
       "4           0         0         0          0              1         0  "
      ]
     },
     "metadata": {},
     "output_type": "display_data"
    }
   ],
   "source": [
    "try:\n",
    "    df3 = pd.read_csv(file_path_ds3)\n",
    "    print(\"\\nDataset #3 loaded successfully. Here's a preview:\")\n",
    "    display(df3.head())\n",
    "except FileNotFoundError:\n",
    "    print(f\"Error: The file {file_path_ds3} was not found. Please check the download step.\")"
   ]
  },
  {
   "cell_type": "markdown",
   "id": "89c422ba",
   "metadata": {},
   "source": [
    "## 4. Initial Exploratory Data Analysis (EDA)"
   ]
  },
  {
   "cell_type": "code",
   "execution_count": 4,
   "id": "9a99e323",
   "metadata": {},
   "outputs": [
    {
     "name": "stdout",
     "output_type": "stream",
     "text": [
      "\n",
      "--- DataFrame Info ---\n",
      "<class 'pandas.core.frame.DataFrame'>\n",
      "RangeIndex: 100077 entries, 0 to 100076\n",
      "Data columns (total 20 columns):\n",
      " #   Column          Non-Null Count   Dtype\n",
      "---  ------          --------------   -----\n",
      " 0   url_length      100077 non-null  int64\n",
      " 1   n_dots          100077 non-null  int64\n",
      " 2   n_hypens        100077 non-null  int64\n",
      " 3   n_underline     100077 non-null  int64\n",
      " 4   n_slash         100077 non-null  int64\n",
      " 5   n_questionmark  100077 non-null  int64\n",
      " 6   n_equal         100077 non-null  int64\n",
      " 7   n_at            100077 non-null  int64\n",
      " 8   n_and           100077 non-null  int64\n",
      " 9   n_exclamation   100077 non-null  int64\n",
      " 10  n_space         100077 non-null  int64\n",
      " 11  n_tilde         100077 non-null  int64\n",
      " 12  n_comma         100077 non-null  int64\n",
      " 13  n_plus          100077 non-null  int64\n",
      " 14  n_asterisk      100077 non-null  int64\n",
      " 15  n_hastag        100077 non-null  int64\n",
      " 16  n_dollar        100077 non-null  int64\n",
      " 17  n_percent       100077 non-null  int64\n",
      " 18  n_redirection   100077 non-null  int64\n",
      " 19  phishing        100077 non-null  int64\n",
      "dtypes: int64(20)\n",
      "memory usage: 15.3 MB\n",
      "\n",
      "Total number of missing values in the dataset: 0\n",
      "Great! Dataset #3 is clean with no missing values.\n",
      "\n",
      "--- Target Variable Distribution ---\n",
      "phishing\n",
      "0    63715\n",
      "1    36362\n",
      "Name: count, dtype: int64\n"
     ]
    },
    {
     "data": {
      "image/png": "[encoded data removed]",
      "text/plain": [
       "<Figure size 640x480 with 1 Axes>"
      ]
     },
     "metadata": {},
     "output_type": "display_data"
    }
   ],
   "source": [
    "# Get a concise summary of the DataFrame.\n",
    "print(\"\\n--- DataFrame Info ---\")\n",
    "df3.info()\n",
    "\n",
    "# Check for any missing values.\n",
    "missing_values_ds3 = df3.isnull().sum().sum()\n",
    "print(f\"\\nTotal number of missing values in the dataset: {missing_values_ds3}\")\n",
    "if missing_values_ds3 == 0:\n",
    "    print(\"Great! Dataset #3 is clean with no missing values.\")\n",
    "\n",
    "# Check the balance of our target variable ('phishing').\n",
    "# 1 indicates a phishing URL, 0 indicates a legitimate URL.\n",
    "print(\"\\n--- Target Variable Distribution ---\")\n",
    "if 'phishing' in df3.columns:\n",
    "    print(df3['phishing'].value_counts())\n",
    "    # Visualize the distribution\n",
    "    df3['phishing'].value_counts().plot(kind='bar', color=['skyblue', 'salmon'], rot=0)\n",
    "    plt.title('Target Variable Distribution (Dataset #3)')\n",
    "    plt.xlabel('Class (0: Legitimate, 1: Phishing)')\n",
    "    plt.ylabel('Count')\n",
    "    plt.show()\n",
    "else:\n",
    "    print(\"Warning: Target column 'phishing' not found.\")\n"
   ]
  },
  {
   "cell_type": "markdown",
   "id": "22224c5c",
   "metadata": {},
   "source": [
    "# Part 2: Model Benchmarking\n",
    "\n",
    "---\n",
    "## 5. Data Preparation and Model Training Setup"
   ]
  },
  {
   "cell_type": "code",
   "execution_count": 5,
   "id": "ef9388db",
   "metadata": {},
   "outputs": [
    {
     "name": "stdout",
     "output_type": "stream",
     "text": [
      "Shape of features (X_ds3): (100077, 19)\n",
      "Shape of target (y_ds3): (100077,)\n"
     ]
    }
   ],
   "source": [
    "# Import necessary libraries\n",
    "from sklearn.model_selection import train_test_split\n",
    "from sklearn.linear_model import LogisticRegression\n",
    "from sklearn.tree import DecisionTreeClassifier\n",
    "from sklearn.ensemble import RandomForestClassifier, GradientBoostingClassifier\n",
    "from sklearn.metrics import accuracy_score, precision_score, recall_score, f1_score\n",
    "import time\n",
    "\n",
    "# Define features (X) and target (y) for Dataset #3\n",
    "# X will contain all columns except the target, 'phishing'.\n",
    "X_ds3 = df3.drop('phishing', axis=1)\n",
    "\n",
    "# y is our target variable.\n",
    "y_ds3 = df3['phishing']\n",
    "\n",
    "print(f\"Shape of features (X_ds3): {X_ds3.shape}\")\n",
    "print(f\"Shape of target (y_ds3): {y_ds3.shape}\")"
   ]
  },
  {
   "cell_type": "markdown",
   "id": "1bf7658b",
   "metadata": {},
   "source": [
    "## 6. Splitting the Data\n",
    "We use stratify=y_ds3 to ensure the class imbalance is preserved in both our training and testing sets."
   ]
  },
  {
   "cell_type": "code",
   "execution_count": 8,
   "id": "84ab98f4",
   "metadata": {},
   "outputs": [
    {
     "name": "stdout",
     "output_type": "stream",
     "text": [
      "\n",
      "Dataset #3 split into training and testing sets.\n"
     ]
    }
   ],
   "source": [
    "X_train_ds3, X_test_ds3, y_train_ds3, y_test_ds3 = train_test_split(\n",
    "    X_ds3, y_ds3,\n",
    "    test_size=0.2,\n",
    "    stratify=y_ds3,\n",
    "    random_state=42\n",
    ")\n",
    "print(\"\\nDataset #3 split into training and testing sets.\")"
   ]
  },
  {
   "cell_type": "markdown",
   "id": "7532bce0",
   "metadata": {},
   "source": [
    "## 7. Model Training and Evaluation\n",
    "### Logistic Regression"
   ]
  },
  {
   "cell_type": "code",
   "execution_count": 9,
   "id": "d186310f",
   "metadata": {},
   "outputs": [
    {
     "name": "stdout",
     "output_type": "stream",
     "text": [
      "\n",
      "--- Training Logistic Regression on Dataset #3 ---\n",
      "Logistic Regression training complete in 13.27s\n"
     ]
    }
   ],
   "source": [
    "# Dictionary to store the performance of models on this dataset\n",
    "model_performance_ds3 = {}\n",
    "\n",
    "# --- Model 1: Logistic Regression ---\n",
    "print(\"\\n--- Training Logistic Regression on Dataset #3 ---\")\n",
    "start_time = time.time()\n",
    "log_reg_ds3 = LogisticRegression(max_iter=1000, random_state=42).fit(X_train_ds3, y_train_ds3)\n",
    "y_pred_lr_ds3 = log_reg_ds3.predict(X_test_ds3)\n",
    "lr_time_ds3 = time.time() - start_time\n",
    "model_performance_ds3['Logistic Regression'] = [\n",
    "    accuracy_score(y_test_ds3, y_pred_lr_ds3),\n",
    "    precision_score(y_test_ds3, y_pred_lr_ds3),\n",
    "    recall_score(y_test_ds3, y_pred_lr_ds3),\n",
    "    f1_score(y_test_ds3, y_pred_lr_ds3),\n",
    "    lr_time_ds3\n",
    "]\n",
    "print(f\"Logistic Regression training complete in {lr_time_ds3:.2f}s\")"
   ]
  },
  {
   "cell_type": "markdown",
   "id": "6042ee65",
   "metadata": {},
   "source": [
    "### Decision Tree Classifier"
   ]
  },
  {
   "cell_type": "code",
   "execution_count": 10,
   "id": "0d3385de",
   "metadata": {},
   "outputs": [
    {
     "name": "stdout",
     "output_type": "stream",
     "text": [
      "\n",
      "--- Training Decision Tree on Dataset #3 ---\n",
      "Decision Tree training complete in 0.31s\n"
     ]
    }
   ],
   "source": [
    "# --- Model 2: Decision Tree ---\n",
    "print(\"\\n--- Training Decision Tree on Dataset #3 ---\")\n",
    "start_time = time.time()\n",
    "dec_tree_ds3 = DecisionTreeClassifier(random_state=42).fit(X_train_ds3, y_train_ds3)\n",
    "y_pred_dt_ds3 = dec_tree_ds3.predict(X_test_ds3)\n",
    "dt_time_ds3 = time.time() - start_time\n",
    "model_performance_ds3['Decision Tree'] = [\n",
    "    accuracy_score(y_test_ds3, y_pred_dt_ds3),\n",
    "    precision_score(y_test_ds3, y_pred_dt_ds3),\n",
    "    recall_score(y_test_ds3, y_pred_dt_ds3),\n",
    "    f1_score(y_test_ds3, y_pred_dt_ds3),\n",
    "    dt_time_ds3\n",
    "]\n",
    "print(f\"Decision Tree training complete in {dt_time_ds3:.2f}s\")"
   ]
  },
  {
   "cell_type": "markdown",
   "id": "ea2c4285",
   "metadata": {},
   "source": [
    "### Random Forest"
   ]
  },
  {
   "cell_type": "code",
   "execution_count": 11,
   "id": "69447708",
   "metadata": {},
   "outputs": [
    {
     "name": "stdout",
     "output_type": "stream",
     "text": [
      "\n",
      "--- Training Random Forest on Dataset #3 ---\n",
      "Random Forest training complete in 1.79s\n"
     ]
    }
   ],
   "source": [
    "# --- Model 3: Random Forest ---\n",
    "print(\"\\n--- Training Random Forest on Dataset #3 ---\")\n",
    "start_time = time.time()\n",
    "rf_clf_ds3 = RandomForestClassifier(n_estimators=100, random_state=42, n_jobs=-1).fit(X_train_ds3, y_train_ds3)\n",
    "y_pred_rf_ds3 = rf_clf_ds3.predict(X_test_ds3)\n",
    "rf_time_ds3 = time.time() - start_time\n",
    "model_performance_ds3['Random Forest'] = [\n",
    "    accuracy_score(y_test_ds3, y_pred_rf_ds3),\n",
    "    precision_score(y_test_ds3, y_pred_rf_ds3),\n",
    "    recall_score(y_test_ds3, y_pred_rf_ds3),\n",
    "    f1_score(y_test_ds3, y_pred_rf_ds3),\n",
    "    rf_time_ds3\n",
    "]\n",
    "print(f\"Random Forest training complete in {rf_time_ds3:.2f}s\")"
   ]
  },
  {
   "cell_type": "markdown",
   "id": "5d5b69b6",
   "metadata": {},
   "source": [
    "### Gradient Boosting Classifier"
   ]
  },
  {
   "cell_type": "code",
   "execution_count": 12,
   "id": "8ef5c2ca",
   "metadata": {},
   "outputs": [
    {
     "name": "stdout",
     "output_type": "stream",
     "text": [
      "\n",
      "--- Training Gradient Boosting on Dataset #3 ---\n",
      "Gradient Boosting training complete in 7.31s\n"
     ]
    }
   ],
   "source": [
    "# --- Model 4: Gradient Boosting ---\n",
    "print(\"\\n--- Training Gradient Boosting on Dataset #3 ---\")\n",
    "start_time = time.time()\n",
    "gb_clf_ds3 = GradientBoostingClassifier(n_estimators=100, random_state=42).fit(X_train_ds3, y_train_ds3)\n",
    "y_pred_gb_ds3 = gb_clf_ds3.predict(X_test_ds3)\n",
    "gb_time_ds3 = time.time() - start_time\n",
    "model_performance_ds3['Gradient Boosting'] = [\n",
    "    accuracy_score(y_test_ds3, y_pred_gb_ds3),\n",
    "    precision_score(y_test_ds3, y_pred_gb_ds3),\n",
    "    recall_score(y_test_ds3, y_pred_gb_ds3),\n",
    "    f1_score(y_test_ds3, y_pred_gb_ds3),\n",
    "    gb_time_ds3\n",
    "]\n",
    "print(f\"Gradient Boosting training complete in {gb_time_ds3:.2f}s\")"
   ]
  },
  {
   "cell_type": "markdown",
   "id": "e1b7e52a",
   "metadata": {},
   "source": [
    "## 8. Final Model Comparison for Dataset #3"
   ]
  },
  {
   "cell_type": "code",
   "execution_count": 15,
   "id": "3ac19a4c",
   "metadata": {},
   "outputs": [
    {
     "name": "stdout",
     "output_type": "stream",
     "text": [
      "\n",
      "--- Final Model Performance Comparison (Dataset #3) ---\n"
     ]
    },
    {
     "data": {
      "text/html": [
       "<div>\n",
       "<style scoped>\n",
       "    .dataframe tbody tr th:only-of-type {\n",
       "        vertical-align: middle;\n",
       "    }\n",
       "\n",
       "    .dataframe tbody tr th {\n",
       "        vertical-align: top;\n",
       "    }\n",
       "\n",
       "    .dataframe thead th {\n",
       "        text-align: right;\n",
       "    }\n",
       "</style>\n",
       "<table border=\"1\" class=\"dataframe\">\n",
       "  <thead>\n",
       "    <tr style=\"text-align: right;\">\n",
       "      <th></th>\n",
       "      <th>Accuracy</th>\n",
       "      <th>Precision</th>\n",
       "      <th>Recall</th>\n",
       "      <th>F1-Score</th>\n",
       "      <th>Training Time (s)</th>\n",
       "    </tr>\n",
       "  </thead>\n",
       "  <tbody>\n",
       "    <tr>\n",
       "      <th>Logistic Regression</th>\n",
       "      <td>0.856265</td>\n",
       "      <td>0.865602</td>\n",
       "      <td>0.715523</td>\n",
       "      <td>0.783440</td>\n",
       "      <td>13.265580</td>\n",
       "    </tr>\n",
       "    <tr>\n",
       "      <th>Decision Tree</th>\n",
       "      <td>0.882794</td>\n",
       "      <td>0.866429</td>\n",
       "      <td>0.800907</td>\n",
       "      <td>0.832381</td>\n",
       "      <td>0.312762</td>\n",
       "    </tr>\n",
       "    <tr>\n",
       "      <th>Random Forest</th>\n",
       "      <td>0.889888</td>\n",
       "      <td>0.860783</td>\n",
       "      <td>0.831431</td>\n",
       "      <td>0.845853</td>\n",
       "      <td>1.791018</td>\n",
       "    </tr>\n",
       "    <tr>\n",
       "      <th>Gradient Boosting</th>\n",
       "      <td>0.881145</td>\n",
       "      <td>0.831213</td>\n",
       "      <td>0.844356</td>\n",
       "      <td>0.837733</td>\n",
       "      <td>7.312948</td>\n",
       "    </tr>\n",
       "  </tbody>\n",
       "</table>\n",
       "</div>"
      ],
      "text/plain": [
       "                     Accuracy  Precision    Recall  F1-Score  \\\n",
       "Logistic Regression  0.856265   0.865602  0.715523  0.783440   \n",
       "Decision Tree        0.882794   0.866429  0.800907  0.832381   \n",
       "Random Forest        0.889888   0.860783  0.831431  0.845853   \n",
       "Gradient Boosting    0.881145   0.831213  0.844356  0.837733   \n",
       "\n",
       "                     Training Time (s)  \n",
       "Logistic Regression          13.265580  \n",
       "Decision Tree                 0.312762  \n",
       "Random Forest                 1.791018  \n",
       "Gradient Boosting             7.312948  "
      ]
     },
     "metadata": {},
     "output_type": "display_data"
    },
    {
     "data": {
      "image/png": "[encoded data removed]",
      "text/plain": [
       "<Figure size 1200x700 with 1 Axes>"
      ]
     },
     "metadata": {},
     "output_type": "display_data"
    }
   ],
   "source": [
    "print(\"\\n--- Final Model Performance Comparison (Dataset #3) ---\")\n",
    "performance_df_ds3 = pd.DataFrame.from_dict(\n",
    "    model_performance_ds3,\n",
    "    orient='index',\n",
    "    columns=['Accuracy', 'Precision', 'Recall', 'F1-Score', 'Training Time (s)']\n",
    ")\n",
    "display(performance_df_ds3)\n",
    "\n",
    "# --- Visualize Model Performance ---\n",
    "metrics_to_plot_ds3 = ['Accuracy', 'Precision', 'Recall', 'F1-Score']\n",
    "performance_to_plot_ds3 = performance_df_ds3[metrics_to_plot_ds3]\n",
    "\n",
    "plt.style.use('seaborn-v0_8-darkgrid')\n",
    "ax = performance_to_plot_ds3.plot(kind='bar', figsize=(12, 7), rot=0, width=0.8)\n",
    "plt.title('Model Performance Comparison (Dataset #3)', fontsize=16)\n",
    "plt.ylabel('Score', fontsize=12)\n",
    "plt.xlabel('Model', fontsize=12)\n",
    "plt.ylim(0.8, 1.0) # Adjust ylim based on results for better visualization\n",
    "plt.legend(title='Metric', bbox_to_anchor=(1.05, 1), loc='upper left')\n",
    "\n",
    "for p in ax.patches:\n",
    "    ax.annotate(f'{p.get_height():.4f}', (p.get_x() + p.get_width() / 2., p.get_height()),\n",
    "                ha='center', va='center', xytext=(0, 10), textcoords='offset points')\n",
    "\n",
    "plt.tight_layout()\n",
    "plt.show()"
   ]
  },
  {
   "cell_type": "markdown",
   "id": "6f08f2a9",
   "metadata": {},
   "source": [
    "## 9. Select and Serialize the Model for Dataset#3\n",
    "Based on the empirical evidence, the Random Forest classifier is once again the most robust and highest-performing model, even on this feature-poor dataset."
   ]
  },
  {
   "cell_type": "code",
   "execution_count": 16,
   "id": "0fc6d45d",
   "metadata": {},
   "outputs": [
    {
     "name": "stdout",
     "output_type": "stream",
     "text": [
      "\n",
      "Champion model for Dataset #3 selected: RandomForestClassifier\n",
      "\n",
      "Champion model for Dataset #3 has been serialized to 'models/url_model_ds3.joblib'\n"
     ]
    }
   ],
   "source": [
    "import joblib\n",
    "\n",
    "# Select the champion model from this run\n",
    "champion_model_ds3 = rf_clf_ds3\n",
    "print(f\"\\nChampion model for Dataset #3 selected: {type(champion_model_ds3).__name__}\")\n",
    "\n",
    "# Create the models directory if it doesn't already exist\n",
    "if not os.path.exists('models'):\n",
    "    os.makedirs('models')\n",
    "    print(\"Created 'models' directory.\")\n",
    "\n",
    "# Save the serialized model with a distinct name\n",
    "model_filename_ds3 = 'models/url_model_ds3.joblib'\n",
    "joblib.dump(champion_model_ds3, model_filename_ds3)\n",
    "\n",
    "print(f\"\\nChampion model for Dataset #3 has been serialized to '{model_filename_ds3}'\")"
   ]
  }
 ],
 "metadata": {
  "kernelspec": {
   "display_name": ".venv",
   "language": "python",
   "name": "python3"
  },
  "language_info": {
   "codemirror_mode": {
    "name": "ipython",
    "version": 3
   },
   "file_extension": ".py",
   "mimetype": "text/x-python",
   "name": "python",
   "nbconvert_exporter": "python",
   "pygments_lexer": "ipython3",
   "version": "3.12.3"
  }
 },
 "nbformat": 4,
 "nbformat_minor": 5
}
